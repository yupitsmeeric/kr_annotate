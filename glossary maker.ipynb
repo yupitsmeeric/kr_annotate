{
 "cells": [
  {
   "cell_type": "markdown",
   "id": "3872452c",
   "metadata": {},
   "source": [
    "# Steps\n",
    "- read text file\n",
    "- tokenise & lemmatise\n",
    "- count & order based on frequency\n",
    "- for each lemma, get the translation(gloss), and hanja\n",
    "\n",
    "### make the html page\n",
    "- make table with:\n",
    "    - lemma\n",
    "    - translation\n",
    "    - hanja\n",
    "    - (maybe) frequency, forms it appears as\n",
    "\n",
    "\n",
    "## Additional things to do\n",
    "- make the one-time dictionary\n",
    "\n",
    "#### additional features\n",
    "- make text highlight lookup in the original text\n",
    "- make index page for translated texts\n"
   ]
  },
  {
   "cell_type": "code",
   "execution_count": 30,
   "id": "6dbc5cb0",
   "metadata": {},
   "outputs": [],
   "source": [
    "TEXT_FILE = '오빠야.txt'"
   ]
  },
  {
   "cell_type": "code",
   "execution_count": 31,
   "id": "9a077509",
   "metadata": {},
   "outputs": [],
   "source": [
    "import os"
   ]
  },
  {
   "cell_type": "code",
   "execution_count": 32,
   "id": "afe6655d",
   "metadata": {},
   "outputs": [],
   "source": [
    "# make the one-time dictionary\n",
    "import json\n",
    "\n",
    "dict_path = 'kr_dict.json'\n",
    "if not os.path.isfile(dict_path):\n",
    "    from datapackage import Package\n",
    "    package = Package('https://raw.githubusercontent.com/garfieldnate/kengdic/master/datapackage.json')\n",
    "    resource = package.get_resource('kengdic')\n",
    "    data = resource.read(keyed=True)\n",
    "    data2 = new_list = [{k: v for k, v in d.items() if k != 'created'} for d in data]\n",
    "    kr_dict = {x['surface']: x for x in data2}\n",
    "    with open(dict_path, 'w', encoding=\"utf-8\") as json_file:\n",
    "        json.dump(kr_dict, json_file)\n",
    "with open(dict_path, 'r', encoding=\"utf-8\") as json_file:\n",
    "    kr_dict = json.load(json_file)"
   ]
  },
  {
   "cell_type": "code",
   "execution_count": 33,
   "id": "59ddd8d3",
   "metadata": {},
   "outputs": [],
   "source": [
    "# read text file\n",
    "with open(TEXT_FILE, 'r', encoding='utf-8') as text_file:\n",
    "    text_original = text_file.read()"
   ]
  },
  {
   "cell_type": "code",
   "execution_count": 34,
   "id": "b1a1b090",
   "metadata": {
    "scrolled": false
   },
   "outputs": [],
   "source": [
    "# konply lemmatise\n",
    "from konlpy.tag import Kkma\n",
    "from collections import Counter\n",
    "import re\n",
    "kkma = Kkma()\n",
    "\n",
    "def lemmatize_text(text):\n",
    "    '''lemmatize text and count and sort'''\n",
    "    korean_pattern = re.compile('[가-힣]+')\n",
    "    # Find all Korean text using the pattern\n",
    "    korean_text = ' '.join(korean_pattern.findall(text))\n",
    "    \n",
    "    text_processed = kkma.pos(korean_text, flatten = False)\n",
    "    text_processed = [x[0] for x in text_processed] # take first morpheme only\n",
    "    text_processed = [x[0] + '다'  if x[1][0]=='V' else x[0] for x in text_processed] # convert verbs to dictionary forms\n",
    "    text_count = sorted(Counter(text_processed).items(), key=lambda x: x[1], reverse=True)\n",
    "\n",
    "    return text_count\n",
    "\n",
    "# text_count = Counter(text_raw)\n",
    "    \n",
    "# sorted_text = sorted(text_count.items(), key=lambda x: x[1], reverse=True)\n",
    "lemmatized_text = lemmatize_text(text_original)\n",
    "# print(lemmatized_text)"
   ]
  },
  {
   "cell_type": "code",
   "execution_count": 35,
   "id": "d22eff73",
   "metadata": {},
   "outputs": [],
   "source": [
    "\n",
    "# lookup dictionary\n",
    "# things i need: original text(lemma), frequency, gloss, hanja\n",
    "def dict_lookup(tup):\n",
    "    res = {}\n",
    "    lookup = kr_dict.get(tup[0],\n",
    "                        {'gloss' : '', 'hanja' : '', 'surface' : ''})\n",
    "    res['word'] = lookup['surface']\n",
    "    res['gloss'] = lookup['gloss']\n",
    "    res['hanja'] = lookup['hanja']\n",
    "    res['freq'] = tup[1]\n",
    "    return res\n",
    "\n",
    "dictionary_text = [dict_lookup(x) for x in lemmatized_text]\n",
    "# print(lemmatized_text)\n",
    "# remove empty entries ie. entries where the 'surface' is empty or none\n",
    "dictionary_text = [x for x in dictionary_text if x['word'] != '']\n",
    "# print(dictionary_text)"
   ]
  },
  {
   "cell_type": "code",
   "execution_count": null,
   "id": "dbd7c53a",
   "metadata": {},
   "outputs": [],
   "source": []
  },
  {
   "cell_type": "code",
   "execution_count": 36,
   "id": "06e1dcf6",
   "metadata": {},
   "outputs": [],
   "source": [
    "def create_tooltip(word):\n",
    "    '''returns annotated word if possible. else return the original word'''\n",
    "    # first check if there is an entry\n",
    "    lemma = kkma.pos(word)\n",
    "    if len(lemma) > 0:\n",
    "        lemma_word = lemma[0][0]\n",
    "        if lemma[0][1][0] == 'V': # if the tag starts with `V`, add '다' to the end\n",
    "            lemma_word += '다'\n",
    "        lookup = kr_dict.get(lemma_word)\n",
    "    else:\n",
    "        lookup = None\n",
    "    \n",
    "    if lookup: # if a dictionary entry exists, proceed to make the annotation\n",
    "        # make tooltip content\n",
    "        if lookup['gloss'] is not None:\n",
    "            tooltip_content = lookup['surface'] + '; '\n",
    "            tooltip_content += lookup['gloss'][:30]\n",
    "            if len(lookup['gloss']) > 30:\n",
    "                tooltip_content += '...'\n",
    "        else:\n",
    "            tooltip_content = ''\n",
    "\n",
    "        # add hanja if available\n",
    "        if lookup['hanja'] is not None:\n",
    "            tooltip_content += '; ' + lookup['hanja']\n",
    "#         print(tooltip_content)\n",
    "        \n",
    "        # now make the actual annotation tags\n",
    "        span = f'<span class=\"tooltip\"><span class=\"tooltiptext\">{tooltip_content}</span>{word}</span>'\n",
    "        return span\n",
    "\n",
    "    else: # otherwise just return the word as is \n",
    "        return word\n",
    "        "
   ]
  },
  {
   "cell_type": "code",
   "execution_count": 37,
   "id": "d1c2acb6",
   "metadata": {},
   "outputs": [],
   "source": [
    "def annotate_text(text):\n",
    "    lines = text.split('\\n')\n",
    "    new_lines = []\n",
    "    for line in lines:\n",
    "        # e/a line, process each word\n",
    "        new_lines.append( ' '.join( [create_tooltip(word) for word in line.split(' ')] ) )\n",
    "    res = '\\n'.join(new_lines)\n",
    "    return res\n"
   ]
  },
  {
   "cell_type": "code",
   "execution_count": 38,
   "id": "cb65b8ab",
   "metadata": {},
   "outputs": [],
   "source": [
    "annotated_text = annotate_text(text_original)"
   ]
  },
  {
   "cell_type": "code",
   "execution_count": 39,
   "id": "5d752881",
   "metadata": {},
   "outputs": [],
   "source": [
    "# turn the list/dictionary into an html table\n",
    "# Generate the HTML table\n",
    "html_table = '''<!DOCTYPE html>\n",
    "<html>\n",
    "<head>\n",
    "    <title>'''\n",
    "    \n",
    "html_table += os.path.splitext(TEXT_FILE)[0]\n",
    "html_table +='''</title>\n",
    "    <style>\n",
    "        body {\n",
    "            background-color: #f5e5d9; /* Sepia background color */\n",
    "            font-size: 20px; /* Increase text size */\n",
    "            text-align: center; /* Center text horizontally */\n",
    "            color: #704214; /* Sepia text color */\n",
    "        }\n",
    "        table {\n",
    "            border-collapse: collapse;\n",
    "            margin-left: auto;\n",
    "            margin-right: auto;\n",
    "\n",
    "        }\n",
    "        th, td {\n",
    "            max-width: 450px;\n",
    "            border: 1px solid black;\n",
    "            padding: 8px;\n",
    "\n",
    "        }\n",
    "        th {\n",
    "            background-color: #d7c9ad; /* Sepia header background color */\n",
    "        }\n",
    "        /* Tooltip container */\n",
    "        .tooltip {\n",
    "          position: relative;\n",
    "          display: inline-block;\n",
    "          border-bottom: 1px dotted gray; /* If you want dots under the hoverable text */\n",
    "        }\n",
    "\n",
    "        /* Tooltip text */\n",
    "        .tooltip .tooltiptext {\n",
    "          visibility: hidden;\n",
    "          opacity: 0;\n",
    "          min-width: 140px;\n",
    "          max-width: 1000px;\n",
    "          background-color: #2a2a2a;\n",
    "          color: #ddd;\n",
    "          text-align: center;\n",
    "          padding: 5px 0;\n",
    "          border-radius: 6px;\n",
    "         \n",
    "          /* Position the tooltip text - see examples below! */\n",
    "          position: absolute;\n",
    "          z-index: 1;\n",
    "          bottom: 2rem;\n",
    "          left:50%;\n",
    "          transform: translate(-50%, 0);\n",
    "        }\n",
    "\n",
    "        /* Show the tooltip text when you mouse over the tooltip container */\n",
    "        .tooltip:hover .tooltiptext {\n",
    "          visibility: visible;\n",
    "          opacity: 1;\n",
    "          transition: opacity 0.18s ease;\n",
    "        }\n",
    "        \n",
    "        .tooltip:hover {\n",
    "          background-color: #556b2f;\n",
    "          color: #dddddd;\n",
    "        }\n",
    "        \n",
    "        \n",
    "    </style>\n",
    "</head>\n",
    "\n",
    "<body>\n",
    "'''\n",
    "\n",
    "text_paras = [x for x in annotated_text.split(\"\\n\\n\") if x != '']\n",
    "text_paras = [x.replace('\\n', '<br>') for x in text_paras]\n",
    "text_paras = '\\n'.join([f'<p>{x}</p>' for x in text_paras])\n",
    "html_table += text_paras\n",
    "\n",
    "html_table += '<table>'\n",
    "# Create the table header row using dictionary keys\n",
    "dict_keys = ['word', 'gloss', 'hanja', 'freq']\n",
    "headers = ['단어', '의미', '漢字', '빈도']\n",
    "# html_table += '<tr>' + ''.join(f'<th>{key}</th>' for key in dictionary_text[0].keys()) + '</tr>\\n'\n",
    "html_table += '<tr>' + ''.join(f'<th>{key}</th>' for key in headers) + '</tr>\\n'\n",
    "\n",
    "\n",
    "# Iterate through the list and create table rows\n",
    "for data_dict in dictionary_text:\n",
    "#     html_table += '<tr>' + ''.join(f'<td>{data_dict[key]}</td>' for key in data_dict.keys()) + '</tr>\\n'\n",
    "    html_table += '<tr>' + ''.join(f'<td>{data_dict[key]}</td>' for key in dict_keys) + '</tr>\\n'\n",
    "\n",
    "html_table += '''</table>\n",
    "</body>\n",
    "</html>\n",
    "'''\n",
    "\n",
    "with open(TEXT_FILE.replace('.txt', '.html'), 'w', encoding='utf-8') as html_file:\n",
    "    html_file.write(html_table)\n"
   ]
  },
  {
   "cell_type": "markdown",
   "id": "10bb3ded",
   "metadata": {},
   "source": [
    "# Create annotations for each word\n",
    "- split into lines\n",
    "- for each line, split into words\n",
    "- for each word, get the lemma\n",
    "    - if the lemma exists in the dict, create a tooltip with gloss[:30] (add trailing dots where applicable), and the hanja if available\n",
    "    - else just return the word as is\n",
    "- combine lines"
   ]
  },
  {
   "cell_type": "code",
   "execution_count": 25,
   "id": "6d579707",
   "metadata": {},
   "outputs": [
    {
     "data": {
      "text/plain": [
       "{'id': 67468,\n",
       " 'surface': '솔직히',\n",
       " 'hanja': '率直히',\n",
       " 'gloss': 'frankly,candidly',\n",
       " 'level': 'B',\n",
       " 'source': 'engdic-202445@ezcorean:72134'}"
      ]
     },
     "execution_count": 25,
     "metadata": {},
     "output_type": "execute_result"
    }
   ],
   "source": [
    "# create annotation for one word first\n",
    "word = '말할게'\n",
    "word = '솔직히'\n",
    "lemma = kkma.pos(word)\n",
    "if len(lemma) > 0:\n",
    "    lemma_word = lemma[0][0]\n",
    "    if lemma[0][1][0] == 'V': # if the tag starts with `V`, add '다' to the end\n",
    "        lemma_word += '다'\n",
    "    lookup = kr_dict.get(lemma_word)\n",
    "    \n",
    "lookup"
   ]
  },
  {
   "cell_type": "code",
   "execution_count": 26,
   "id": "909653f8",
   "metadata": {},
   "outputs": [
    {
     "name": "stdout",
     "output_type": "stream",
     "text": [
      "frankly,candidly; 率直히\n"
     ]
    }
   ],
   "source": [
    "# create span tags for tooltip\n",
    "'''eg:\n",
    "솔직히 <span class=\"tooltip\"><span class=\"tooltiptext\">say</span>말할게</span> 正直に言うよ<\n",
    "\n",
    "'''\n",
    "# start by making the content of the tooltip\n",
    "if lookup['gloss'] is not None:\n",
    "    tooltip_content = lookup['gloss'][:30]\n",
    "    if len(lookup['gloss']) > 30:\n",
    "        tooltip_content += '...'\n",
    "else:\n",
    "    tooltip_content = ''\n",
    "\n",
    "# add hanja if available\n",
    "if lookup['hanja'] is not None:\n",
    "    tooltip_content += '; ' + lookup['hanja']\n",
    "print(tooltip_content)"
   ]
  },
  {
   "cell_type": "code",
   "execution_count": 27,
   "id": "65acede7",
   "metadata": {},
   "outputs": [
    {
     "name": "stdout",
     "output_type": "stream",
     "text": [
      "<span class=\"tooltip\"><span class=\"tooltiptext\">frankly,candidly; 率直히</span>솔직히</span>\n"
     ]
    }
   ],
   "source": [
    "# now make the actual tags\n",
    "span = f'<span class=\"tooltip\"><span class=\"tooltiptext\">{tooltip_content}</span>{word}</span>'\n",
    "print(span)"
   ]
  },
  {
   "cell_type": "code",
   "execution_count": 28,
   "id": "7ab7eb16",
   "metadata": {},
   "outputs": [
    {
     "data": {
      "text/plain": [
       "'<span class=\"tooltip\"><span class=\"tooltiptext\">한; One, a single</span>한</span>'"
      ]
     },
     "execution_count": 28,
     "metadata": {},
     "output_type": "execute_result"
    }
   ],
   "source": [
    "create_tooltip('한')"
   ]
  },
  {
   "cell_type": "code",
   "execution_count": 29,
   "id": "85190b2a",
   "metadata": {},
   "outputs": [
    {
     "data": {
      "text/plain": [
       "'<!DOCTYPE html>\\n<html>\\n<head>\\n    <title>오빠야</title>\\n    <style>\\n        body {\\n            background-color: #f5e5d9; /* Sepia background color */\\n            font-size: 20px; /* Increase text size */\\n            text-align: center; /* Center text horizontally */\\n            color: #704214; /* Sepia text color */\\n        }\\n        table {\\n            border-collapse: collapse;\\n            margin-left: auto;\\n            margin-right: auto;\\n\\n        }\\n        th, td {\\n            max-width: 450px;\\n            border: 1px solid black;\\n            padding: 8px;\\n\\n        }\\n        th {\\n            background-color: #d7c9ad; /* Sepia header background color */\\n        }\\n        /* Tooltip container */\\n        .tooltip {\\n          position: relative;\\n          display: inline-block;\\n          border-bottom: 1px dotted gray; /* If you want dots under the hoverable text */\\n        }\\n\\n        /* Tooltip text */\\n        .tooltip .tooltiptext {\\n          visibility: hidden;\\n          opacity: 0;\\n          min-width: 140px;\\n          max-width: 1000px;\\n          background-color: #2a2a2a;\\n          color: #ddd;\\n          text-align: center;\\n          padding: 5px 0;\\n          border-radius: 6px;\\n         \\n          /* Position the tooltip text - see examples below! */\\n          position: absolute;\\n          z-index: 1;\\n          bottom: 2rem;\\n          left:50%;\\n          transform: translate(-50%, 0);\\n        }\\n\\n        /* Show the tooltip text when you mouse over the tooltip container */\\n        .tooltip:hover .tooltiptext {\\n          visibility: visible;\\n          opacity: 1;\\n          transition: opacity 0.18s ease;\\n        }\\n        \\n        .tooltip:hover {\\n          background-color: #556b2f;\\n          color: #dddddd;\\n        }\\n        \\n        \\n    </style>\\n</head>\\n\\n<body>\\n<p><span class=\"tooltip\"><span class=\"tooltiptext\">오빠; Older brother</span>오빠야</span><br>オッパヤ<br>내가 <span class=\"tooltip\"><span class=\"tooltiptext\">진짜; Real, authentic (not fake); 眞짜</span>진짜</span> <span class=\"tooltip\"><span class=\"tooltiptext\">좋아하다; To like, be fond of</span>좋아하는</span> <span class=\"tooltip\"><span class=\"tooltiptext\">사람; Person</span>사람이</span> <span class=\"tooltip\"><span class=\"tooltiptext\">생기다; to be shaped like</span>생겨서</span> <span class=\"tooltip\"><span class=\"tooltiptext\">혼자; Alone</span>혼자</span> <span class=\"tooltip\"><span class=\"tooltiptext\">끙끙; with groans</span>끙끙</span><br>私 本当に好きな人ができて1人でうんうん<br><span class=\"tooltip\"><span class=\"tooltiptext\">앓다; To be ill, sick with sth</span>앓다가</span> <span class=\"tooltip\"><span class=\"tooltiptext\">죽다; die,pass away</span>죽어버릴것만</span> <span class=\"tooltip\"><span class=\"tooltiptext\">같다; To be similar</span>같아서</span> <span class=\"tooltip\"><span class=\"tooltiptext\">얘기; Story</span>얘기를</span> <span class=\"tooltip\"><span class=\"tooltiptext\">하다; To do</span>한다</span><br>苦しんで死んでしまいそうだから話をするね<br><span class=\"tooltip\"><span class=\"tooltiptext\">눈; Snow</span>눈</span> <span class=\"tooltip\"><span class=\"tooltiptext\">앞; In front of, before</span>앞에</span> 아른아른 <span class=\"tooltip\"><span class=\"tooltiptext\">거리; Distance; 距離</span>거리는</span> <span class=\"tooltip\"><span class=\"tooltiptext\">자다; To sleep</span>잘</span> <span class=\"tooltip\"><span class=\"tooltiptext\">생기다; to be shaped like</span>생긴</span> <span class=\"tooltip\"><span class=\"tooltiptext\">얼굴; Face</span>얼굴</span> <span class=\"tooltip\"><span class=\"tooltiptext\">자꾸; Constantly, repeatedly</span>자꾸</span><br>目の前にチラチラするイケメンな顔 ひたすら<br><span class=\"tooltip\"><span class=\"tooltiptext\">귀; Ear</span>귀에</span> <span class=\"tooltip\"><span class=\"tooltiptext\">맴돌다; curl around, spin in a circula...</span>맴도는</span> <span class=\"tooltip\"><span class=\"tooltiptext\">그; He</span>그의</span> 촉촉한 <span class=\"tooltip\"><span class=\"tooltiptext\">목소리; Voice</span>목소리</span> <span class=\"tooltip\"><span class=\"tooltiptext\">예; Yes, certainly, right</span>예</span><br>耳にぐるぐる回るあなたのしっとりした声 </p>\\n<p><span class=\"tooltip\"><span class=\"tooltiptext\">니; incisors, cutting teeth</span>니가</span> <span class=\"tooltip\"><span class=\"tooltiptext\">좋아하다; To like, be fond of</span>좋아하는</span> 그 <span class=\"tooltip\"><span class=\"tooltiptext\">남자; Boy; 男子</span>남자</span><br>君が好きなその男<br><span class=\"tooltip\"><span class=\"tooltiptext\">도대체; In the world, on earth; 都大體</span>도대체</span> <span class=\"tooltip\"><span class=\"tooltiptext\">누다; to take a shit/crap</span>누구길래</span><br>一体誰のせいで<br><span class=\"tooltip\"><span class=\"tooltiptext\">이렇게; In this way</span>이렇게나</span> <span class=\"tooltip\"><span class=\"tooltiptext\">들뜨다; to effervesce, be happy and ca...</span>들뜬거니</span><br>こんなにも浮かれたのか<br><span class=\"tooltip\"><span class=\"tooltiptext\">얼굴; Face</span>얼굴은</span> <span class=\"tooltip\"><span class=\"tooltiptext\">어떻다; how,what.. do you think of</span>어떻게</span> <span class=\"tooltip\"><span class=\"tooltiptext\">생기다; to be shaped like</span>생겼는지</span><br>どんな顔をしているのか<br><span class=\"tooltip\"><span class=\"tooltiptext\">무슨; What, what kind of</span>무슨</span> <span class=\"tooltip\"><span class=\"tooltiptext\">일; One</span>일을</span> <span class=\"tooltip\"><span class=\"tooltiptext\">하다; To do</span>하는지</span><br>何の仕事をしているのか<br><span class=\"tooltip\"><span class=\"tooltiptext\">나; Me</span>나는</span> <span class=\"tooltip\"><span class=\"tooltiptext\">너무나; Extremely</span>너무나</span> <span class=\"tooltip\"><span class=\"tooltiptext\">궁금하다; To wonder or  be curious about</span>궁금해</span><br>僕はすごく気になる</p>\\n<p><span class=\"tooltip\"><span class=\"tooltiptext\">나; Me</span>나는</span> <span class=\"tooltip\"><span class=\"tooltiptext\">너; You</span>너를</span> <span class=\"tooltip\"><span class=\"tooltiptext\">좋아하다; To like, be fond of</span>좋아하고</span> <span class=\"tooltip\"><span class=\"tooltiptext\">너; You</span>너를</span> <span class=\"tooltip\"><span class=\"tooltiptext\">좋아하다; To like, be fond of</span>좋아하고</span> <span class=\"tooltip\"><span class=\"tooltiptext\">너; You</span>너도</span><br>私はあなたが好きで あなたが好きであなたも<br><span class=\"tooltip\"><span class=\"tooltiptext\">나르다; to move a long or semi-long di...</span>나를</span> <span class=\"tooltip\"><span class=\"tooltiptext\">좋아하다; To like, be fond of</span>좋아하고</span> <span class=\"tooltip\"><span class=\"tooltiptext\">나르다; to move a long or semi-long di...</span>나를</span> <span class=\"tooltip\"><span class=\"tooltiptext\">좋아하다; To like, be fond of</span>좋아하고</span><br>私を好きで私を好きで<br><span class=\"tooltip\"><span class=\"tooltiptext\">우리다; infuse</span>우린</span> <span class=\"tooltip\"><span class=\"tooltiptext\">서로; mutually,one another</span>서로</span> <span class=\"tooltip\"><span class=\"tooltiptext\">좋아하다; To like, be fond of</span>좋아하는데도</span> 그 <span class=\"tooltip\"><span class=\"tooltiptext\">누; sack; 啂</span>누구도</span> <span class=\"tooltip\"><span class=\"tooltiptext\">말; words,speaking</span>말을</span> <span class=\"tooltip\"><span class=\"tooltiptext\">안; ~ not ~ + VERB</span>안</span> <span class=\"tooltip\"><span class=\"tooltiptext\">하다; To do</span>해요</span><br>私達はお互いを好きなのにどっちも言わない<br><span class=\"tooltip\"><span class=\"tooltiptext\">나; Me</span>나는</span> <span class=\"tooltip\"><span class=\"tooltiptext\">너; You</span>너를</span> <span class=\"tooltip\"><span class=\"tooltiptext\">좋아하다; To like, be fond of</span>좋아하고</span> <span class=\"tooltip\"><span class=\"tooltiptext\">너; You</span>너를</span> <span class=\"tooltip\"><span class=\"tooltiptext\">좋아하다; To like, be fond of</span>좋아하고</span> <span class=\"tooltip\"><span class=\"tooltiptext\">너; You</span>너도</span><br>私はあなたが好きで あなたが好きであなたも<br><span class=\"tooltip\"><span class=\"tooltiptext\">나르다; to move a long or semi-long di...</span>나를</span> <span class=\"tooltip\"><span class=\"tooltiptext\">좋아하다; To like, be fond of</span>좋아하고</span> <span class=\"tooltip\"><span class=\"tooltiptext\">나르다; to move a long or semi-long di...</span>나를</span> <span class=\"tooltip\"><span class=\"tooltiptext\">좋아하다; To like, be fond of</span>좋아하고</span><br>私を好きで私を好きで<br><span class=\"tooltip\"><span class=\"tooltiptext\">우리다; infuse</span>우린</span> <span class=\"tooltip\"><span class=\"tooltiptext\">서로; mutually,one another</span>서로</span> <span class=\"tooltip\"><span class=\"tooltiptext\">좋아하다; To like, be fond of</span>좋아하는데도</span> 그 <span class=\"tooltip\"><span class=\"tooltiptext\">누; sack; 啂</span>누구도</span> <span class=\"tooltip\"><span class=\"tooltiptext\">말; words,speaking</span>말을</span> <span class=\"tooltip\"><span class=\"tooltiptext\">안; ~ not ~ + VERB</span>안</span> <span class=\"tooltip\"><span class=\"tooltiptext\">하다; To do</span>해요</span><br>私達はお互いを好きなのにどっちも言わない</p>\\n<p><span class=\"tooltip\"><span class=\"tooltiptext\">말; words,speaking</span>말을</span> <span class=\"tooltip\"><span class=\"tooltiptext\">하면; undersurface</span>하면</span> <span class=\"tooltip\"><span class=\"tooltiptext\">멀다; To be far</span>멀어질까</span> <span class=\"tooltip\"><span class=\"tooltiptext\">너무; Too much</span>너무</span> 두려워<br>言ったら遠くなるかとてもこわい<br><span class=\"tooltip\"><span class=\"tooltiptext\">너; You</span>너를</span> <span class=\"tooltip\"><span class=\"tooltiptext\">잃다; To lose, to miss, to be depriv...</span>잃기가</span> <span class=\"tooltip\"><span class=\"tooltiptext\">나; Me</span>나는</span> <span class=\"tooltip\"><span class=\"tooltiptext\">너무; Too much</span>너무</span> <span class=\"tooltip\"><span class=\"tooltiptext\">무섭다; fearful,dreadful</span>무서워</span><br>あなたを失うのが私はとてもこわいの<br><span class=\"tooltip\"><span class=\"tooltiptext\">말; words,speaking</span>말을</span> <span class=\"tooltip\"><span class=\"tooltiptext\">하면; undersurface</span>하면</span> <span class=\"tooltip\"><span class=\"tooltiptext\">멀다; To be far</span>멀어질까</span> <span class=\"tooltip\"><span class=\"tooltiptext\">너무; Too much</span>너무</span> 두려워<br>言ったら遠くなるかとてもこわい<br><span class=\"tooltip\"><span class=\"tooltiptext\">너; You</span>너를</span> <span class=\"tooltip\"><span class=\"tooltiptext\">잃다; To lose, to miss, to be depriv...</span>잃기가</span> <span class=\"tooltip\"><span class=\"tooltiptext\">나; Me</span>나는</span> <span class=\"tooltip\"><span class=\"tooltiptext\">너무; Too much</span>너무</span> <span class=\"tooltip\"><span class=\"tooltiptext\">무섭다; fearful,dreadful</span>무서워</span> <span class=\"tooltip\"><span class=\"tooltiptext\">예; Yes, certainly, right</span>예</span><br>あなたを失うのが私はとてもこわいの</p>\\n<p><span class=\"tooltip\"><span class=\"tooltiptext\">좋아하다; To like, be fond of</span>좋아하는</span> <span class=\"tooltip\"><span class=\"tooltiptext\">마음; Heart</span>마음에</span> <span class=\"tooltip\"><span class=\"tooltiptext\">떨리다; palpitate, quake, throb (passi...</span>떨리는</span> <span class=\"tooltip\"><span class=\"tooltiptext\">날; the edge of a blade</span>날들에</span><br>好きな気持ちに震える日々に<br><span class=\"tooltip\"><span class=\"tooltiptext\">더; More</span>더</span> <span class=\"tooltip\"><span class=\"tooltiptext\">없이; Without</span>없이</span> <span class=\"tooltip\"><span class=\"tooltiptext\">덧없이; transiently</span>덧없이</span> <span class=\"tooltip\"><span class=\"tooltiptext\">마음; Heart</span>마음이</span> <span class=\"tooltip\"><span class=\"tooltiptext\">커지다; To become bigger</span>커지고</span><br>この上なくむなしく気持ちが大きくなって<br>두근대는 <span class=\"tooltip\"><span class=\"tooltiptext\">마음; Heart</span>마음에</span> <span class=\"tooltip\"><span class=\"tooltiptext\">설레다; your heart flutters with excit...</span>설레는</span> <span class=\"tooltip\"><span class=\"tooltiptext\">날; the edge of a blade</span>날들에</span><br>ドキドキする心にときめく日々に<br>난 헤어 <span class=\"tooltip\"><span class=\"tooltiptext\">나오다; Come out</span>나올</span> <span class=\"tooltip\"><span class=\"tooltiptext\">수; way,method</span>수</span> <span class=\"tooltip\"><span class=\"tooltiptext\">없다; Do not exist, absent</span>없어</span><br>私は抜け出すことができない</p>\\n<p><span class=\"tooltip\"><span class=\"tooltiptext\">나; Me</span>나는</span> <span class=\"tooltip\"><span class=\"tooltiptext\">너; You</span>너를</span> <span class=\"tooltip\"><span class=\"tooltiptext\">좋아하다; To like, be fond of</span>좋아하고</span> <span class=\"tooltip\"><span class=\"tooltiptext\">너; You</span>너를</span> <span class=\"tooltip\"><span class=\"tooltiptext\">좋아하다; To like, be fond of</span>좋아하고</span> <span class=\"tooltip\"><span class=\"tooltiptext\">너; You</span>너도</span><br>私はあなたが好きで あなたが好きであなたも<br><span class=\"tooltip\"><span class=\"tooltiptext\">나르다; to move a long or semi-long di...</span>나를</span> <span class=\"tooltip\"><span class=\"tooltiptext\">좋아하다; To like, be fond of</span>좋아하고</span> <span class=\"tooltip\"><span class=\"tooltiptext\">나르다; to move a long or semi-long di...</span>나를</span> <span class=\"tooltip\"><span class=\"tooltiptext\">좋아하다; To like, be fond of</span>좋아하고</span><br>私を好きで私を好きで<br><span class=\"tooltip\"><span class=\"tooltiptext\">우리다; infuse</span>우린</span> <span class=\"tooltip\"><span class=\"tooltiptext\">서로; mutually,one another</span>서로</span> <span class=\"tooltip\"><span class=\"tooltiptext\">좋아하다; To like, be fond of</span>좋아하는데도</span> 그 <span class=\"tooltip\"><span class=\"tooltiptext\">누; sack; 啂</span>누구도</span> <span class=\"tooltip\"><span class=\"tooltiptext\">말; words,speaking</span>말을</span> <span class=\"tooltip\"><span class=\"tooltiptext\">안; ~ not ~ + VERB</span>안</span> <span class=\"tooltip\"><span class=\"tooltiptext\">하다; To do</span>해요</span><br>私達はお互いを好きなのにどっちも言わない<br><span class=\"tooltip\"><span class=\"tooltiptext\">나; Me</span>나는</span> <span class=\"tooltip\"><span class=\"tooltiptext\">너; You</span>너를</span> <span class=\"tooltip\"><span class=\"tooltiptext\">좋아하다; To like, be fond of</span>좋아하고</span> <span class=\"tooltip\"><span class=\"tooltiptext\">너; You</span>너를</span> <span class=\"tooltip\"><span class=\"tooltiptext\">좋아하다; To like, be fond of</span>좋아하고</span> <span class=\"tooltip\"><span class=\"tooltiptext\">너; You</span>너도</span><br>僕はあなたが好きで あなたが好きであなたも<br><span class=\"tooltip\"><span class=\"tooltiptext\">나르다; to move a long or semi-long di...</span>나를</span> <span class=\"tooltip\"><span class=\"tooltiptext\">좋아하다; To like, be fond of</span>좋아하고</span> <span class=\"tooltip\"><span class=\"tooltiptext\">나르다; to move a long or semi-long di...</span>나를</span> <span class=\"tooltip\"><span class=\"tooltiptext\">좋아하다; To like, be fond of</span>좋아하고</span><br>僕を好きで僕を好きで<br><span class=\"tooltip\"><span class=\"tooltiptext\">우리다; infuse</span>우린</span> <span class=\"tooltip\"><span class=\"tooltiptext\">서로; mutually,one another</span>서로</span> <span class=\"tooltip\"><span class=\"tooltiptext\">좋아하다; To like, be fond of</span>좋아하는데도</span> 그 <span class=\"tooltip\"><span class=\"tooltiptext\">누; sack; 啂</span>누구도</span> <span class=\"tooltip\"><span class=\"tooltiptext\">말; words,speaking</span>말을</span> <span class=\"tooltip\"><span class=\"tooltiptext\">안; ~ not ~ + VERB</span>안</span> <span class=\"tooltip\"><span class=\"tooltiptext\">하다; To do</span>해요</span><br>私達はお互いを好きなのにどっちも言わない</p><table><tr><th>단어</th><th>의미</th><th>漢字</th><th>빈도</th></tr>\\n<tr><td>좋아하다</td><td>To like, be fond of</td><td>None</td><td>23</td></tr>\\n<tr><td>나</td><td>Me</td><td>None</td><td>16</td></tr>\\n<tr><td>너</td><td>You</td><td>None</td><td>10</td></tr>\\n<tr><td>그</td><td>He</td><td>None</td><td>6</td></tr>\\n<tr><td>말</td><td>words,speaking</td><td>None</td><td>6</td></tr>\\n<tr><td>하다</td><td>To do</td><td>None</td><td>5</td></tr>\\n<tr><td>우리다</td><td>infuse</td><td>None</td><td>4</td></tr>\\n<tr><td>서로</td><td>mutually,one another</td><td>None</td><td>4</td></tr>\\n<tr><td>누</td><td>sack</td><td>啂</td><td>4</td></tr>\\n<tr><td>너무</td><td>Too much</td><td>None</td><td>4</td></tr>\\n<tr><td>생기다</td><td>to be shaped like</td><td>None</td><td>3</td></tr>\\n<tr><td>알다</td><td>To know</td><td>None</td><td>3</td></tr>\\n<tr><td>해</td><td>Damage, injury</td><td>None</td><td>3</td></tr>\\n<tr><td>마음</td><td>Heart</td><td>None</td><td>3</td></tr>\\n<tr><td>얼굴</td><td>Face</td><td>None</td><td>2</td></tr>\\n<tr><td>예</td><td>Yes, certainly, right</td><td>None</td><td>2</td></tr>\\n<tr><td>멀다</td><td>To be far</td><td>None</td><td>2</td></tr>\\n<tr><td>지다</td><td>To lose (at war, a game)</td><td>None</td><td>2</td></tr>\\n<tr><td>두렵다</td><td>difficult,gloomy</td><td>None</td><td>2</td></tr>\\n<tr><td>잃다</td><td>To lose, to miss, to be deprived</td><td>None</td><td>2</td></tr>\\n<tr><td>무섭다</td><td>fearful,dreadful</td><td>None</td><td>2</td></tr>\\n<tr><td>날</td><td>the edge of a blade</td><td>None</td><td>2</td></tr>\\n<tr><td>오빠</td><td>Older brother</td><td>None</td><td>1</td></tr>\\n<tr><td>진짜</td><td>Real, authentic (not fake)</td><td>眞짜</td><td>1</td></tr>\\n<tr><td>사람</td><td>Person</td><td>None</td><td>1</td></tr>\\n<tr><td>혼자</td><td>Alone</td><td>None</td><td>1</td></tr>\\n<tr><td>끙끙</td><td>with groans</td><td>None</td><td>1</td></tr>\\n<tr><td>앓다</td><td>To be ill, sick with sth</td><td>None</td><td>1</td></tr>\\n<tr><td>죽다</td><td>die,pass away</td><td>None</td><td>1</td></tr>\\n<tr><td>버리다</td><td>(following a verb) the verb`s action is over, perhaps in a sad way</td><td>None</td><td>1</td></tr>\\n<tr><td>것</td><td>A thing or  an object</td><td>None</td><td>1</td></tr>\\n<tr><td>같다</td><td>To be similar</td><td>None</td><td>1</td></tr>\\n<tr><td>얘기</td><td>Story</td><td>None</td><td>1</td></tr>\\n<tr><td>눈</td><td>Snow</td><td>None</td><td>1</td></tr>\\n<tr><td>앞</td><td>In front of, before</td><td>None</td><td>1</td></tr>\\n<tr><td>거리</td><td>Distance</td><td>距離</td><td>1</td></tr>\\n<tr><td>잘</td><td>Well</td><td>None</td><td>1</td></tr>\\n<tr><td>자꾸</td><td>Constantly, repeatedly</td><td>None</td><td>1</td></tr>\\n<tr><td>귀</td><td>Ear</td><td>None</td><td>1</td></tr>\\n<tr><td>맴돌다</td><td>curl around, spin in a circular motion</td><td>None</td><td>1</td></tr>\\n<tr><td>목소리</td><td>Voice</td><td>None</td><td>1</td></tr>\\n<tr><td>니</td><td>incisors, cutting teeth</td><td>None</td><td>1</td></tr>\\n<tr><td>남자</td><td>Boy</td><td>男子</td><td>1</td></tr>\\n<tr><td>도대체</td><td>In the world, on earth</td><td>都大體</td><td>1</td></tr>\\n<tr><td>누다</td><td>to take a shit/crap</td><td>None</td><td>1</td></tr>\\n<tr><td>이렇게</td><td>In this way</td><td>None</td><td>1</td></tr>\\n<tr><td>나다</td><td>after ..., used in sentences similar to how 면 is used, but the meaning is narrower, meaning only \"after .... doing the prior thing ...\"</td><td>None</td><td>1</td></tr>\\n<tr><td>들뜨다</td><td>to effervesce, be happy and carefree, giddy, to be all excited</td><td>None</td><td>1</td></tr>\\n<tr><td>거</td><td>That thing</td><td>None</td><td>1</td></tr>\\n<tr><td>어떻다</td><td>how,what.. do you think of</td><td>None</td><td>1</td></tr>\\n<tr><td>무슨</td><td>What, what kind of</td><td>None</td><td>1</td></tr>\\n<tr><td>일</td><td>One</td><td>None</td><td>1</td></tr>\\n<tr><td>너무나</td><td>Extremely</td><td>None</td><td>1</td></tr>\\n<tr><td>궁금하다</td><td>To wonder or  be curious about</td><td>None</td><td>1</td></tr>\\n<tr><td>떨리다</td><td>palpitate, quake, throb (passive of 떨다)</td><td>None</td><td>1</td></tr>\\n<tr><td>더</td><td>More</td><td>None</td><td>1</td></tr>\\n<tr><td>없이</td><td>Without</td><td>None</td><td>1</td></tr>\\n<tr><td>덧없이</td><td>transiently</td><td>None</td><td>1</td></tr>\\n<tr><td>커지다</td><td>To become bigger</td><td>None</td><td>1</td></tr>\\n<tr><td>설레다</td><td>your heart flutters with excitement/aniticipation</td><td>None</td><td>1</td></tr>\\n<tr><td>낳다</td><td>To give birth</td><td>None</td><td>1</td></tr>\\n<tr><td>나오다</td><td>Come out</td><td>None</td><td>1</td></tr>\\n<tr><td>수</td><td>way,method</td><td>None</td><td>1</td></tr>\\n<tr><td>없다</td><td>Do not exist, absent</td><td>None</td><td>1</td></tr>\\n<tr><td>안</td><td>~ not ~ + VERB</td><td>None</td><td>1</td></tr>\\n</table>\\n</body>\\n</html>\\n'"
      ]
     },
     "execution_count": 29,
     "metadata": {},
     "output_type": "execute_result"
    }
   ],
   "source": [
    "html_table"
   ]
  },
  {
   "cell_type": "code",
   "execution_count": null,
   "id": "66758fc6",
   "metadata": {},
   "outputs": [],
   "source": []
  }
 ],
 "metadata": {
  "kernelspec": {
   "display_name": "Python 3 (ipykernel)",
   "language": "python",
   "name": "python3"
  },
  "language_info": {
   "codemirror_mode": {
    "name": "ipython",
    "version": 3
   },
   "file_extension": ".py",
   "mimetype": "text/x-python",
   "name": "python",
   "nbconvert_exporter": "python",
   "pygments_lexer": "ipython3",
   "version": "3.9.7"
  }
 },
 "nbformat": 4,
 "nbformat_minor": 5
}
